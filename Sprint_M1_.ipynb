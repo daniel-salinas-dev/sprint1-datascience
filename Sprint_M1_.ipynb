{
  "nbformat": 4,
  "nbformat_minor": 0,
  "metadata": {
    "colab": {
      "provenance": []
    },
    "kernelspec": {
      "name": "python3",
      "display_name": "Python 3"
    },
    "language_info": {
      "name": "python"
    }
  },
  "cells": [
    {
      "cell_type": "markdown",
      "source": [
        "#Parte 1\n",
        "\n",
        "Diseñe e implemente una clase Producto con los siguientes atributos: ***id, nombre, descripción, cantidad y precio***.\n",
        "La clase debe incluir métodos para obtener y modificar la información de los productos.\n",
        "\n"
      ],
      "metadata": {
        "id": "tVvBu9XCYXAK"
      }
    },
    {
      "cell_type": "code",
      "execution_count": 16,
      "metadata": {
        "id": "OUhOJOPIYNBh"
      },
      "outputs": [],
      "source": [
        "class Producto:\n",
        "  #Creación de constructor con parametros indicados en el requerimiento\n",
        "  def __init__(self, id, nombre, descripcion, cantidad, precio):\n",
        "    #Se asignan los parametros a la instancia de un objeto creado\n",
        "    self.id = id\n",
        "    self.nombre = nombre\n",
        "    self.descripcion = descripcion\n",
        "    self.cantidad = cantidad\n",
        "    self.precio = precio\n",
        "\n",
        "  #Función para obtener la informacion del objeto instanciado\n",
        "  def obtener_informacion(self):\n",
        "    return{\n",
        "        \"id\": self.id,\n",
        "        \"nombre\": self.nombre,\n",
        "        \"descripcion\": self.descripcion,\n",
        "        \"cantidad\": self.cantidad,\n",
        "        \"precio\": self.precio\n",
        "    }\n",
        "\n",
        "  #Metodos para actualizar los valores de las propiedades del objeto instanciado\n",
        "  def actualizar_nombre(self, nombre):\n",
        "    self.nombre = nombre\n",
        "\n",
        "  def actualizar_descripcion(self, descripcion):\n",
        "    self.descripcion = descripcion\n",
        "\n",
        "  def actualizar_cantidad(self, cantidad):\n",
        "    self.cantidad = cantidad\n",
        "\n",
        "  def actualizar_precio(self, precio):\n",
        "    self.precio = precio"
      ]
    },
    {
      "cell_type": "markdown",
      "source": [
        "#Parte 2\n",
        "Diseñe e implemente una clase Inventario que utilice una estructura de datos (por ejemplo, un diccionario) para almacenar objetos de la clase Producto. La clase Inventario debe incluir métodos para realizar las siguientes operaciones:\n",
        "* Agregar un producto al inventario\n",
        "* Eliminar un producto del inventario\n",
        "* Actualizar la información de un producto en el inventario\n",
        "* Buscar un producto en el inventario por su id\n",
        "* Listar todos los productos en el inventario, incluyendo información como la\n",
        "cantidad total de productos y el valor total del inventario\n"
      ],
      "metadata": {
        "id": "x7kwkE4OYeJv"
      }
    },
    {
      "cell_type": "code",
      "source": [
        "class Inventario:\n",
        "\n",
        "  #Se genera un constructor vacio\n",
        "  def __init__(self):\n",
        "    #se genera un diccionario vacio para ser llenado con productos.\n",
        "    self.productos = {}\n",
        "\n",
        "  #Método para agregar un producto, recibe como parametro el objeto producto\n",
        "  def agregar_productos(self, producto):\n",
        "    #Se valida si el producto ya existe.\n",
        "    if producto.id in self.productos:\n",
        "      print(f\"Producto con id {producto.id} ya existe.\")\n",
        "    else:\n",
        "      #Se agrega el producto a el diccionario con el id como la clave.\n",
        "      self.productos[producto.id] = producto\n",
        "      print(f\"Producto con id {producto.id} agregado al inventario.\")\n",
        "\n",
        "  #Método para eliminar un producto, recibe como parámetro el ID\n",
        "  def eliminar_producto(self, id):\n",
        "    #Valida si existe el ID en el diccionario.\n",
        "    if id in self.productos:\n",
        "      #Elimina el producto del diccionario, basandose en el ID\n",
        "      del self.productos[id]\n",
        "      print(f\"Producto con id {id} eliminado del inventario.\")\n",
        "    else:\n",
        "      print(f\"Producto con id {id} no encontrado en el inventario.\")\n",
        "\n",
        "  #Método para actualizar el diccionario, recibe el id como parametro obligatrio\n",
        "  #y los demas parámetros como opcionales.\n",
        "  def actualizar_producto(self, id, nombre=None, descripcion=None, cantidad=None, precio=None):\n",
        "    #Valida si existe el ID en el diccionario.\n",
        "    if id in self.productos:\n",
        "      producto = self.productos[id]\n",
        "\n",
        "      #Valida si existen valores dentro de los parametros, para poder actualizar\n",
        "      #Si existe el valor, se llama a los metodos de la clase producto.\n",
        "      if nombre is not None:\n",
        "        producto.actualizar_nombre(nombre)\n",
        "      if descripcion is not None:\n",
        "        producto.actualizar_descripcion(descripcion)\n",
        "      if cantidad is not None:\n",
        "        producto.actualizar_cantidad(cantidad)\n",
        "      if precio is not None:\n",
        "        producto.actualizar_precio(precio)\n",
        "      print(f\"Producto con id {id} actualizado en el inventario.\")\n",
        "    else:\n",
        "      print(f\"Producto con id {id} no encontrado en el inventario\")\n",
        "\n",
        "  #Método para buscar el producto por el ID\n",
        "  def buscar_producto(self, id):\n",
        "    #Valida si existe el ID en el diccionario.\n",
        "    if id in self.productos:\n",
        "      #Se obtiene el objeto producto con su ID y es llamado el metodo para\n",
        "      #obtener la información.\n",
        "      return self.productos[id].obtener_informacion()\n",
        "    else:\n",
        "      print(f\"Producto con id {id} no encontrado en el inventario\")\n",
        "\n",
        "  #Método para listar todos los productos dentro del diccionario.\n",
        "  def listar_productos(self):\n",
        "    #Se realiza un loop para ir llamando al método de la clase producto.\n",
        "    for producto in self.productos.values():\n",
        "      print(producto.obtener_informacion())"
      ],
      "metadata": {
        "id": "GeFgzInMcDe-"
      },
      "execution_count": 17,
      "outputs": []
    },
    {
      "cell_type": "markdown",
      "source": [
        "#Parte 3\n",
        "Implemente una menú de usuario que permita a los usuarios interactuar con el\n",
        "sistema de gestión de inventario. El menú de incluir opciones para realizar las\n",
        "diferentes operaciones disponibles en la clase Inventario. Utilice un bucle while y estructuras de control de flujo if-elif-else para manejar las diferentes opciones del menú. (opcional)\n"
      ],
      "metadata": {
        "id": "tANOlTfrYgXb"
      }
    },
    {
      "cell_type": "code",
      "source": [
        "#Función que muestra un menú y espera un input.\n",
        "def mostrar_menu():\n",
        "  print(\"Sistema de gestión de inventario\")\n",
        "  print(\"1. Agregar producto\")\n",
        "  print(\"2. Actualizar producto\")\n",
        "  print(\"3. Eliminar producto\")\n",
        "  print(\"4. Mostrar información de un producto\")\n",
        "  print(\"5. Generar informe del inventario\")\n",
        "  print(\"6. Salir\")\n",
        "  return input(\"Seleccione una opción: \")"
      ],
      "metadata": {
        "id": "Mxwl9h1xfxHT"
      },
      "execution_count": 15,
      "outputs": []
    },
    {
      "cell_type": "code",
      "source": [
        "#NOTA: Ejecutar primero todas las otras partes y luego esta que es el main.\n",
        "def main():\n",
        "  #Se instancia un objeto con la clase Inventario, para la obtencion de\n",
        "  #sus métodos.\n",
        "  inventario = Inventario()\n",
        "\n",
        "  #Loop infinito hasta que se escoja la opcion 6 que tiene una salida de programa\n",
        "  while True:\n",
        "    #Llamada a funcion de menu con el valor elegido por el usuario\n",
        "    opcion = mostrar_menu()\n",
        "\n",
        "    #Se realiza un if-elsif-else con cada opción del menú.\n",
        "    if opcion == \"1\":\n",
        "      #Agregar un producto nuevo\n",
        "      id = obtener_entero(\"ID del producto: \")\n",
        "      nombre = input(\"Nombre del producto: \")\n",
        "      descripcion = input(\"Descripción del producto: \")\n",
        "      cantidad = input(\"Cantidad: \")\n",
        "      precio = input(\"Precio: \")\n",
        "      #Se crea un objeto de la clase Producto\n",
        "      producto = Producto(id, nombre, descripcion, cantidad, precio)\n",
        "      #Se llama al método de la clase Inventario\n",
        "      inventario.agregar_productos(producto)\n",
        "\n",
        "    elif opcion == \"2\":\n",
        "      #Actualización de producto\n",
        "      id = obtener_entero(\"ID del producto a actualizar: \")\n",
        "      nombre = input(\"Nombre del producto (dejar en blanco para no cambiar): \")\n",
        "      descripcion = input(\"Descripción del producto (dejar en blanco para no cambiar): \")\n",
        "      cantidad_str = input(\"Cantidad (dejar en blanco para no cambiar): \")\n",
        "      precio_str = input(\"Precio (dejar en blanco para no cambiar): \")\n",
        "\n",
        "      #Como el input es texto, se valida si es un numero int o float en ambos casos\n",
        "      #Si no es numero, se deja como None y se omite en la actualización\n",
        "      cantidad = int(cantidad_str) if cantidad_str.isdigit() else None\n",
        "      precio = float(precio_str) if precio_str.replace('.', '', 1).isdigit() else None\n",
        "\n",
        "      #Se llama al método de la clase Inventario\n",
        "      inventario.actualizar_producto(id,\n",
        "                                     nombre if nombre else None,\n",
        "                                     descripcion if descripcion else None,\n",
        "                                     cantidad if cantidad is not None else None,\n",
        "                                     precio if precio is not None else None)\n",
        "\n",
        "    elif opcion == \"3\":\n",
        "      #Eliminación de un producto en base a su ID\n",
        "      id = obtener_entero(\"ID del producto a eliminar: \")\n",
        "      #Se llama al método de la clase Inventario\n",
        "      inventario.eliminar_producto(id)\n",
        "\n",
        "    elif opcion == \"4\":\n",
        "      #Busqueda de producto\n",
        "      id = obtener_entero(\"ID del producto a buscar: \")\n",
        "      #Se llama a la función de la clase Inventario que retorna un objeto Producto\n",
        "      #en base al ID.\n",
        "      producto = inventario.buscar_producto(id)\n",
        "      #Si lo encuentra se imprime, sino da un mensaje de no encontrado.\n",
        "      if producto:\n",
        "        print(producto)\n",
        "      else:\n",
        "        print(f\"Producto con id {id} no encontrado en el inventario\")\n",
        "\n",
        "    elif opcion == \"5\":\n",
        "      #Se llama al método para listar productos\n",
        "      inventario.listar_productos()\n",
        "\n",
        "    elif opcion == \"6\":\n",
        "      #Opción para salir del sistema usando la acción break.\n",
        "      print(\"Saliendo del sistema...\")\n",
        "      break\n",
        "\n",
        "    #Se agrega un Else por si no se coloca un valor correcto en el menú.\n",
        "    else:\n",
        "      print(\"Opción no válida. Intente de nuevo.\")\n",
        "\n",
        "#Instrucción para indicar que el metodo main() es el programa principal\n",
        "#Es lo primero que se ejecutará\n",
        "if __name__ == \"__main__\":\n",
        "  main()\n"
      ],
      "metadata": {
        "id": "KLecKxPYfmI8"
      },
      "execution_count": null,
      "outputs": []
    },
    {
      "cell_type": "markdown",
      "source": [
        "#Parte 4\n",
        "Asegúrese de que el sistema maneje adecuadamente errores y excepciones, como\n",
        "entradas inválidas del usuario o intentos de actualizar o eliminar productos que no existen en el inventario.\n"
      ],
      "metadata": {
        "id": "Wu8hcH-nYiJu"
      }
    },
    {
      "cell_type": "code",
      "source": [
        "#Función para validar si es un valor entero\n",
        "def obtener_entero(mensaje):\n",
        "  #Loop infinito hasta que el usuario ingrese un numero entero valido\n",
        "  while True:\n",
        "    try:\n",
        "      #Entra a try, si no puede ejecutar esta linea por error de compilación\n",
        "      #va al except\n",
        "      return int(input(mensaje))\n",
        "    except ValueError:\n",
        "      print(\"Por favor ingrese un número entero valido\")"
      ],
      "metadata": {
        "id": "JocUW1Reg-4E"
      },
      "execution_count": 14,
      "outputs": []
    },
    {
      "cell_type": "markdown",
      "source": [
        "#Parte 5\n",
        "Documente el código utilizando comentarios y docstrings apropiados para facilitar la comprensión y el mantenimiento del software.\n"
      ],
      "metadata": {
        "id": "elJw5kgyYjlX"
      }
    },
    {
      "cell_type": "markdown",
      "source": [
        "#Parte 6\n",
        "Gestione el código a través de GitHub"
      ],
      "metadata": {
        "id": "oZqBkTWuYly8"
      }
    }
  ]
}